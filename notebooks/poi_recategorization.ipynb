import numpy as np
import matplotlib.pyplot as plt
import seaborn as sns
import geopandas as gpd
import pandas as pd
pd.set_option('display.max_columns', None)
import numpy as np
from scipy.spatial import cKDTree
from ast import literal_eval
from collections import Counter
cbg_gdf=gpd.read_file('/content/drive/MyDrive/data/brh_cbg.geojson')
mp=pd.read_csv('/content/drive/MyDrive/data/mp_v2.csv')
hps=pd.read_csv('/content/drive/MyDrive/data/home_panel_summary.csv')
cbg_gdf=cbg_to_str(cbg_gdf,'GEOID')
hps=cbg_to_str(hps,'census_block_group')
income_data,total_households=get_income_data()
cbg_gdf = impute_missing_values(cbg_gdf)
cbg_gdf = calculate_income_quantiles_cbsa(total_households, income_data, cbg_gdf)
cbg_gdf = pd.merge(cbg_gdf, hps[['cbg','number_devices_residing']], on='cbg', how='left')
cbg_gdf['cbg'] = cbg_gdf['cbg'].astype(str).str.zfill(12).astype(int)
cbg_gdf["tot_pop"] = cbg_gdf["tot_pop"].replace(0, np.nan)
cbg_gdf.dropna(subset=["tot_pop"], inplace=True,ignore_index=True)
#mp = process_cbg_data(mp, cbg_gdf, 'RAW_VISITOR_COUNTS', 'VISITOR_HOME_CBGS')
#cbg_gdf=cbg_to_str(cbg_gdf,'cbg')
mp=process_cbg_data_v2(mp, cbg_gdf, 'RAW_VISITOR_COUNTS', 'VISITOR_HOME_CBGS')
mp = compute_income_segregation(mp, cbg_gdf)
mp['income_segregation'].isnull().sum()
